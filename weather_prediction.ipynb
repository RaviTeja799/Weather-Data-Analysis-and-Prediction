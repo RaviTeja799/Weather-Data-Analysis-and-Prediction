{
 "cells": [
  {
   "cell_type": "markdown",
   "id": "f822667e",
   "metadata": {},
   "source": [
    "# 🌤️Weather Data Analysis & Temperature Prediction\n",
    "\n",
    "This project analyzes historical weather data from Bangalore and predicts future temperature trends using **Linear Regression**.\n",
    "\n",
    "### 📈 Goals:\n",
    "- Explore and visualize temperature patterns\n",
    "- Smooth noisy time-series data\n",
    "- Build a simple regression model for forecasting\n",
    "- Predict temperatures for the next 5 days (hourly)\n",
    "\n",
    "Dataset: `Banglore.csv` (local dataset)\n",
    "\n",
    "---\n"
   ]
  },
  {
   "cell_type": "markdown",
   "id": "de62e838",
   "metadata": {},
   "source": [
    "# Import Libraries"
   ]
  },
  {
   "cell_type": "code",
   "execution_count": null,
   "id": "62f76433",
   "metadata": {},
   "outputs": [],
   "source": [
    "# Import core libraries\n",
    "import pandas as pd\n",
    "import numpy as np\n",
    "import matplotlib.pyplot as plt\n",
    "from sklearn.linear_model import LinearRegression\n",
    "from sklearn.model_selection import train_test_split\n",
    "from datetime import timedelta\n",
    "import matplotlib.dates as mdates"
   ]
  },
  {
   "cell_type": "markdown",
   "id": "594a5844",
   "metadata": {},
   "source": [
    "# Load the Dataset"
   ]
  },
  {
   "cell_type": "code",
   "execution_count": null,
   "id": "abf66555",
   "metadata": {},
   "outputs": [],
   "source": [
    "# Load the dataset\n",
    "df = pd.read_csv(\"Bangalore.csv\")\n",
    "\n",
    "# Convert date column to datetime\n",
    "df['date'] = pd.to_datetime(df['date'])\n",
    "df = df.sort_values('date')  # Ensure it's sorted\n",
    "\n",
    "# Optional: Drop NA values from temp column\n",
    "df = df.dropna(subset=['temperature_2m'])\n",
    "\n",
    "# Convert datetime to numeric (ordinal)\n",
    "df['date_ordinal'] = df['date'].map(pd.Timestamp.toordinal)\n",
    "\n",
    "# ========== Plot Raw + Smoothed Data ==========\n",
    "df['rolling_temp'] = df['temperature_2m'].rolling(window=24*7).mean()\n",
    "\n",
    "# Quick preview\n",
    "df[['date', 'temperature_2m']].sample(5)\n",
    "\n"
   ]
  },
  {
   "cell_type": "markdown",
   "id": "7b59a263",
   "metadata": {},
   "source": [
    "# Visualize Temperature Over Time \n",
    "## 📊 Raw Temperature Over Time\n",
    "We plot the temperature readings over time to observe trends and daily fluctuations.\n"
   ]
  },
  {
   "cell_type": "code",
   "execution_count": null,
   "id": "27f62a14",
   "metadata": {},
   "outputs": [],
   "source": [
    "plt.figure(figsize=(14, 6))\n",
    "plt.plot(df['date'], df['temperature_2m'], label='Temperature (°C)', color='orange')\n",
    "plt.title(\"Hourly Temperature in Bangalore\")\n",
    "plt.xlabel(\"Year\")\n",
    "plt.ylabel(\"Temperature (°C)\")\n",
    "plt.grid(True)\n",
    "plt.legend()\n",
    "plt.show()\n"
   ]
  },
  {
   "cell_type": "markdown",
   "id": "117ee4e3",
   "metadata": {},
   "source": [
    "# Apply Smoothing to See Trends\n",
    "## 📉 Smoothed Temperature Trend\n",
    "We apply a rolling average (7-day window) to reduce noise and highlight long-term patterns.\n"
   ]
  },
  {
   "cell_type": "code",
   "execution_count": null,
   "id": "e5696669",
   "metadata": {},
   "outputs": [],
   "source": [
    "df['temp_smooth'] = df['temperature_2m'].rolling(window=24*7).mean()\n",
    "\n",
    "plt.figure(figsize=(14, 6))\n",
    "plt.plot(df['date'], df['temperature_2m'], label='Raw', alpha=0.3)\n",
    "plt.plot(df['date'], df['temp_smooth'], label='7-Day Rolling Avg', color='red')\n",
    "plt.title(\"Smoothed Temperature Trend (Weekly Rolling Average)\")\n",
    "plt.xlabel(\"Year\")\n",
    "plt.ylabel(\"Temperature (°C)\")\n",
    "plt.grid(True)\n",
    "plt.legend()\n",
    "plt.show()\n"
   ]
  },
  {
   "cell_type": "markdown",
   "id": "fe0e0b39",
   "metadata": {},
   "source": [
    "## 🧠 Prepare Features and Target\n",
    "We convert the date to numeric format and use it to predict temperature using a linear regression model.\n"
   ]
  },
  {
   "cell_type": "code",
   "execution_count": null,
   "id": "0018860b",
   "metadata": {},
   "outputs": [],
   "source": [
    "# ----- Feature Engineering for TRAINING -----\n",
    "df['date_ordinal'] = df['date'].map(pd.Timestamp.toordinal)\n",
    "df['dayofyear'] = df['date'].dt.dayofyear\n",
    "df['hour'] = df['date'].dt.hour\n",
    "\n",
    "# Cyclical features for daily + annual seasonality\n",
    "df['sin_doy'] = np.sin(2 * np.pi * df['dayofyear'] / 365.25)\n",
    "df['cos_doy'] = np.cos(2 * np.pi * df['dayofyear'] / 365.25)\n",
    "df['sin_hour'] = np.sin(2 * np.pi * df['hour'] / 24)\n",
    "df['cos_hour'] = np.cos(2 * np.pi * df['hour'] / 24)\n",
    "\n",
    "# Final features used in training\n",
    "final_features = [\n",
    "    'date_ordinal',\n",
    "    'relative_humidity_2m',\n",
    "    'pressure_msl',\n",
    "    'cloud_cover',\n",
    "    'sin_doy',\n",
    "    'cos_doy',\n",
    "    'sin_hour',\n",
    "    'cos_hour'\n",
    "]\n",
    "X = df[final_features]\n",
    "y = df['temperature_2m']\n",
    "\n",
    "# Train/test split and model fit\n",
    "from sklearn.model_selection import train_test_split\n",
    "from sklearn.linear_model import LinearRegression\n",
    "\n",
    "X_train, X_test, y_train, y_test = train_test_split(X, y, shuffle=False, test_size=0.2)\n",
    "model = LinearRegression()\n",
    "model.fit(X_train, y_train)\n"
   ]
  },
  {
   "cell_type": "markdown",
   "id": "c5cc6eb0",
   "metadata": {},
   "source": [
    "# Train the Linear Regression Model"
   ]
  },
  {
   "cell_type": "code",
   "execution_count": null,
   "id": "257d2a6a",
   "metadata": {},
   "outputs": [],
   "source": [
    "# Fit model\n",
    "model = LinearRegression()\n",
    "model.fit(X_train, y_train)\n",
    "\n",
    "# Predict on test data\n",
    "y_pred = model.predict(X_test)"
   ]
  },
  {
   "cell_type": "markdown",
   "id": "a416dd03",
   "metadata": {},
   "source": [
    "## 📈 Actual vs Predicted Temperature\n",
    "Compare the model's predicted temperatures to actual test values.\n"
   ]
  },
  {
   "cell_type": "code",
   "execution_count": null,
   "id": "55ccd4ca",
   "metadata": {},
   "outputs": [],
   "source": [
    "# Plot actual vs predicted\n",
    "plt.figure(figsize=(14, 6))\n",
    "plt.fill_between(df['date'], df['temperature_2m'], alpha=0.3, label='Actual', color='skyblue')\n",
    "plt.plot(df.iloc[X_test.index]['date'], y_pred, color=\"green\", label='Predicted (Test)')\n",
    "plt.title(\"Temperature Prediction using Linear Regression (Reduced Features)\")\n",
    "plt.xlabel(\"Date\")\n",
    "plt.ylabel(\"Temperature (°C)\")\n",
    "plt.grid(True)\n",
    "plt.legend()\n",
    "plt.show()"
   ]
  },
  {
   "cell_type": "markdown",
   "id": "d9d61750",
   "metadata": {},
   "source": [
    "## 🔮 Predict Future Temperatures\n",
    "We forecast hourly temperatures for the next 5 days using the trained model.\n"
   ]
  },
  {
   "cell_type": "code",
   "execution_count": null,
   "id": "c8f3fd7a",
   "metadata": {},
   "outputs": [],
   "source": [
    "from datetime import timedelta\n",
    "import numpy as np\n",
    "import pandas as pd\n",
    "import matplotlib.pyplot as plt\n",
    "\n",
    "# ====== Step 1: Generate future hourly timestamps ======\n",
    "future_dates = [df['date'].max() + timedelta(hours=i) for i in range(1, 24*5 + 1)]\n",
    "future_df = pd.DataFrame({'date': future_dates})\n",
    "\n",
    "# ====== Step 2: Create time-based features ======\n",
    "future_df['date_ordinal'] = future_df['date'].map(pd.Timestamp.toordinal)\n",
    "future_df['dayofyear'] = future_df['date'].dt.dayofyear\n",
    "future_df['hour'] = future_df['date'].dt.hour\n",
    "\n",
    "# Add cyclic features for daily and annual seasonality\n",
    "future_df['sin_doy'] = np.sin(2 * np.pi * future_df['dayofyear'] / 365.25)\n",
    "future_df['cos_doy'] = np.cos(2 * np.pi * future_df['dayofyear'] / 365.25)\n",
    "future_df['sin_hour'] = np.sin(2 * np.pi * future_df['hour'] / 24)\n",
    "future_df['cos_hour'] = np.cos(2 * np.pi * future_df['hour'] / 24)\n",
    "\n",
    "# ====== Step 3: Use last 24 hours pattern for other features ======\n",
    "# This avoids static values and simulates realistic hourly fluctuation\n",
    "features_to_repeat = ['relative_humidity_2m', 'pressure_msl', 'cloud_cover']\n",
    "for col in features_to_repeat:\n",
    "    recent_24 = df[col].tail(24).values  # last 24 values\n",
    "    future_df[col] = np.tile(recent_24, int(len(future_df) / 24))\n",
    "\n",
    "# ====== Step 4: Prepare input in correct order ======\n",
    "final_features = [\n",
    "    'date_ordinal',\n",
    "    'relative_humidity_2m',\n",
    "    'pressure_msl',\n",
    "    'cloud_cover',\n",
    "    'sin_doy',\n",
    "    'cos_doy',\n",
    "    'sin_hour',\n",
    "    'cos_hour'\n",
    "]\n",
    "future_X = future_df[final_features]\n",
    "\n",
    "# ====== Step 5: Predict future temperature ======\n",
    "future_preds = model.predict(future_X)\n",
    "\n",
    "# ====== Step 6: Plot forecast ======\n",
    "plt.figure(figsize=(14, 6))\n",
    "plt.plot(future_df['date'], future_preds, label='Forecast (Next 5 Days)', color='blue')\n",
    "plt.title(\"Hourly Temperature Forecast (Next 5 Days)\")\n",
    "plt.xlabel(\"Date\")\n",
    "plt.ylabel(\"Predicted Temp (°C)\")\n",
    "plt.grid(True)\n",
    "plt.legend()\n",
    "plt.ticklabel_format(useOffset=False, style='plain', axis='y')\n",
    "plt.tight_layout()\n",
    "plt.show()\n"
   ]
  },
  {
   "cell_type": "code",
   "execution_count": null,
   "id": "6c8a2295",
   "metadata": {},
   "outputs": [],
   "source": []
  }
 ],
 "metadata": {
  "kernelspec": {
   "display_name": "myenv",
   "language": "python",
   "name": "python3"
  },
  "language_info": {
   "codemirror_mode": {
    "name": "ipython",
    "version": 3
   },
   "file_extension": ".py",
   "mimetype": "text/x-python",
   "name": "python",
   "nbconvert_exporter": "python",
   "pygments_lexer": "ipython3",
   "version": "3.11.7"
  }
 },
 "nbformat": 4,
 "nbformat_minor": 5
}
